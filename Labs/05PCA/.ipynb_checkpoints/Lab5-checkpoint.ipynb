{
 "cells": [
  {
   "cell_type": "markdown",
   "metadata": {},
   "source": [
    "# INFO204 Lab 5 - Feature Manipulation\n",
    "\n",
    "For this lab we will take a look of PCA, using it for data visualisation and preprocessing. \n",
    "For code examples, refer to the relevant Sklearn documents, and material in previous lectures and labs. \n",
    "\n",
    "## Part 1. Preparation"
   ]
  },
  {
   "cell_type": "markdown",
   "metadata": {},
   "source": [
    "Again, we use the \"breast cancer\" dataset for this lab. Now load it in, and assign \"data\" to variable X, \"target\" to variable y:"
   ]
  },
  {
   "cell_type": "code",
   "execution_count": 16,
   "metadata": {},
   "outputs": [
    {
     "data": {
      "text/html": [
       "<script>requirejs.config({paths: { 'plotly': ['https://cdn.plot.ly/plotly-latest.min']},});if(!window.Plotly) {{require(['plotly'],function(plotly) {window.Plotly=plotly;});}}</script>"
      ],
      "text/vnd.plotly.v1+html": [
       "<script>requirejs.config({paths: { 'plotly': ['https://cdn.plot.ly/plotly-latest.min']},});if(!window.Plotly) {{require(['plotly'],function(plotly) {window.Plotly=plotly;});}}</script>"
      ]
     },
     "metadata": {},
     "output_type": "display_data"
    }
   ],
   "source": [
    "from sklearn import datasets\n",
    "import numpy as np\n",
    "import pandas as pd\n",
    "\n",
    "from sklearn.model_selection import train_test_split\n",
    "from sklearn.decomposition import PCA\n",
    "from sklearn.preprocessing import StandardScaler\n",
    "from sklearn.neighbors import KNeighborsClassifier\n",
    "from sklearn.model_selection import cross_val_score\n",
    "from sklearn.model_selection import KFold\n",
    "from sklearn.model_selection import ShuffleSplit\n",
    "\n",
    "\n",
    "import matplotlib.pyplot as plt\n",
    "import seaborn as sns\n",
    "%matplotlib inline\n",
    "from plotly.offline import init_notebook_mode,plot,iplot\n",
    "import plotly.graph_objs as go\n",
    "init_notebook_mode(connected=True)"
   ]
  },
  {
   "cell_type": "code",
   "execution_count": 17,
   "metadata": {},
   "outputs": [],
   "source": [
    "# to complete ...\n",
    "dataset = datasets.load_breast_cancer()\n",
    "X = dataset.data\n",
    "y = dataset.target\n",
    "feat_names = dataset.feature_names"
   ]
  },
  {
   "cell_type": "markdown",
   "metadata": {},
   "source": [
    "Now, use the \"train_test_split\" function to split X into X_tr / X_te, and y_tr / y_te for training and testing respectively. Specify these options: test_size=0.3, random_state=42."
   ]
  },
  {
   "cell_type": "code",
   "execution_count": 18,
   "metadata": {},
   "outputs": [],
   "source": [
    "# to complete ...\n",
    "# Make a train/test split using 30% test size\n",
    "X_tr, X_te, y_tr, y_te = train_test_split(X, y, test_size=0.30, random_state=42)"
   ]
  },
  {
   "cell_type": "code",
   "execution_count": 19,
   "metadata": {},
   "outputs": [
    {
     "name": "stdout",
     "output_type": "stream",
     "text": [
      "(398, 30) (171, 30)\n"
     ]
    }
   ],
   "source": [
    "# verify whether split is done correctly:\n",
    "print X_tr.shape, X_te.shape"
   ]
  },
  {
   "cell_type": "markdown",
   "metadata": {},
   "source": [
    "# PCA transform for visualisation"
   ]
  },
  {
   "cell_type": "markdown",
   "metadata": {},
   "source": [
    "**Task 1a.** Following examples given in Lecture 11, conduct the PCA tranform of X_tr, using the option n_components=2:"
   ]
  },
  {
   "cell_type": "code",
   "execution_count": 20,
   "metadata": {},
   "outputs": [],
   "source": [
    "pca = PCA(n_components=2)\n",
    "pc = pca.fit_transform(X_tr)"
   ]
  },
  {
   "cell_type": "markdown",
   "metadata": {},
   "source": [
    "Now plot the new data \"pc\", using the old y_tr labels. "
   ]
  },
  {
   "cell_type": "code",
   "execution_count": 21,
   "metadata": {},
   "outputs": [
    {
     "data": {
      "text/html": [
       "<div>\n",
       "<style scoped>\n",
       "    .dataframe tbody tr th:only-of-type {\n",
       "        vertical-align: middle;\n",
       "    }\n",
       "\n",
       "    .dataframe tbody tr th {\n",
       "        vertical-align: top;\n",
       "    }\n",
       "\n",
       "    .dataframe thead th {\n",
       "        text-align: right;\n",
       "    }\n",
       "</style>\n",
       "<table border=\"1\" class=\"dataframe\">\n",
       "  <thead>\n",
       "    <tr style=\"text-align: right;\">\n",
       "      <th></th>\n",
       "      <th>PC1</th>\n",
       "      <th>PC2</th>\n",
       "      <th>Target_train</th>\n",
       "    </tr>\n",
       "  </thead>\n",
       "  <tbody>\n",
       "    <tr>\n",
       "      <th>0</th>\n",
       "      <td>-173.142266</td>\n",
       "      <td>18.162997</td>\n",
       "      <td>1</td>\n",
       "    </tr>\n",
       "    <tr>\n",
       "      <th>1</th>\n",
       "      <td>-269.896445</td>\n",
       "      <td>40.628564</td>\n",
       "      <td>1</td>\n",
       "    </tr>\n",
       "    <tr>\n",
       "      <th>2</th>\n",
       "      <td>-62.496326</td>\n",
       "      <td>35.875609</td>\n",
       "      <td>1</td>\n",
       "    </tr>\n",
       "    <tr>\n",
       "      <th>3</th>\n",
       "      <td>-316.150759</td>\n",
       "      <td>25.631474</td>\n",
       "      <td>1</td>\n",
       "    </tr>\n",
       "    <tr>\n",
       "      <th>4</th>\n",
       "      <td>-175.427454</td>\n",
       "      <td>6.214322</td>\n",
       "      <td>1</td>\n",
       "    </tr>\n",
       "  </tbody>\n",
       "</table>\n",
       "</div>"
      ],
      "text/plain": [
       "          PC1        PC2  Target_train\n",
       "0 -173.142266  18.162997             1\n",
       "1 -269.896445  40.628564             1\n",
       "2  -62.496326  35.875609             1\n",
       "3 -316.150759  25.631474             1\n",
       "4 -175.427454   6.214322             1"
      ]
     },
     "execution_count": 21,
     "metadata": {},
     "output_type": "execute_result"
    }
   ],
   "source": [
    "# Plot the scatter plot, using class labels: 1 - 'ro', 0 - 'b+'.\n",
    "df = pd.DataFrame(data=pc, columns=['PC1', 'PC2'])\n",
    "df['Target_train'] = y_tr\n",
    "df.head()"
   ]
  },
  {
   "cell_type": "code",
   "execution_count": 22,
   "metadata": {},
   "outputs": [
    {
     "data": {
      "image/png": "[encoded data removed]",
      "text/plain": [
       "<Figure size 651.477x360 with 1 Axes>"
      ]
     },
     "metadata": {},
     "output_type": "display_data"
    }
   ],
   "source": [
    "sns.lmplot(x='PC1', y='PC2', hue='Target_train', data=df, fit_reg=False, aspect=1.618034)\n",
    "plt.title('Non-Standardised PCA')\n",
    "plt.show()"
   ]
  },
  {
   "cell_type": "markdown",
   "metadata": {},
   "source": [
    "**Task 1b.** Carry out standardization first on X_tr, and redo the PCA transform and visualization task. "
   ]
  },
  {
   "cell_type": "code",
   "execution_count": 23,
   "metadata": {},
   "outputs": [
    {
     "data": {
      "text/html": [
       "<div>\n",
       "<style scoped>\n",
       "    .dataframe tbody tr th:only-of-type {\n",
       "        vertical-align: middle;\n",
       "    }\n",
       "\n",
       "    .dataframe tbody tr th {\n",
       "        vertical-align: top;\n",
       "    }\n",
       "\n",
       "    .dataframe thead th {\n",
       "        text-align: right;\n",
       "    }\n",
       "</style>\n",
       "<table border=\"1\" class=\"dataframe\">\n",
       "  <thead>\n",
       "    <tr style=\"text-align: right;\">\n",
       "      <th></th>\n",
       "      <th>PC1</th>\n",
       "      <th>PC2</th>\n",
       "      <th>Target_train</th>\n",
       "    </tr>\n",
       "  </thead>\n",
       "  <tbody>\n",
       "    <tr>\n",
       "      <th>0</th>\n",
       "      <td>-3.084842</td>\n",
       "      <td>-2.158704</td>\n",
       "      <td>1</td>\n",
       "    </tr>\n",
       "    <tr>\n",
       "      <th>1</th>\n",
       "      <td>-2.182647</td>\n",
       "      <td>-0.617571</td>\n",
       "      <td>1</td>\n",
       "    </tr>\n",
       "    <tr>\n",
       "      <th>2</th>\n",
       "      <td>2.049959</td>\n",
       "      <td>2.328953</td>\n",
       "      <td>1</td>\n",
       "    </tr>\n",
       "    <tr>\n",
       "      <th>3</th>\n",
       "      <td>-2.809267</td>\n",
       "      <td>-0.950791</td>\n",
       "      <td>1</td>\n",
       "    </tr>\n",
       "    <tr>\n",
       "      <th>4</th>\n",
       "      <td>-1.913537</td>\n",
       "      <td>-1.072582</td>\n",
       "      <td>1</td>\n",
       "    </tr>\n",
       "  </tbody>\n",
       "</table>\n",
       "</div>"
      ],
      "text/plain": [
       "        PC1       PC2  Target_train\n",
       "0 -3.084842 -2.158704             1\n",
       "1 -2.182647 -0.617571             1\n",
       "2  2.049959  2.328953             1\n",
       "3 -2.809267 -0.950791             1\n",
       "4 -1.913537 -1.072582             1"
      ]
     },
     "execution_count": 23,
     "metadata": {},
     "output_type": "execute_result"
    }
   ],
   "source": [
    "# your code for Task 2... import StandardScaler first\n",
    "# carry out PCA transform \n",
    "#...\n",
    "pca = PCA(n_components=2)\n",
    "pc = pca.fit_transform(StandardScaler().fit_transform(X_tr))\n",
    "\n",
    "pcdf = pd.DataFrame(data=pc, columns=['PC1', 'PC2'])\n",
    "pcdf['Target_train'] = y_tr\n",
    "pcdf.head()"
   ]
  },
  {
   "cell_type": "code",
   "execution_count": 24,
   "metadata": {},
   "outputs": [
    {
     "data": {
      "image/png": "[encoded data removed]",
      "text/plain": [
       "<Figure size 651.477x360 with 1 Axes>"
      ]
     },
     "metadata": {},
     "output_type": "display_data"
    }
   ],
   "source": [
    "sns.lmplot(x='PC1', y='PC2', hue='Target_train', data=pcdf, fit_reg=False, aspect=1.618034)\n",
    "plt.title('Standardised PCA')\n",
    "plt.show()"
   ]
  },
  {
   "cell_type": "markdown",
   "metadata": {},
   "source": [
    "**Comment** on your observations:\n",
    ">- Before standardisation, the classes seemed to cross over alot because of their inconsistent scales.\n",
    ">- Standardising the data made the seperation between the classes more apparent."
   ]
  },
  {
   "cell_type": "markdown",
   "metadata": {},
   "source": [
    "---\n",
    "---"
   ]
  },
  {
   "cell_type": "markdown",
   "metadata": {},
   "source": [
    "# Part 2. Classification"
   ]
  },
  {
   "cell_type": "markdown",
   "metadata": {},
   "source": [
    "** Task 2a. ** Train a kNN classifier on X_tr and score it on X_te. Change the value for n_neighbors and find the best $k$ in the range of [1, 21]."
   ]
  },
  {
   "cell_type": "code",
   "execution_count": 25,
   "metadata": {},
   "outputs": [
    {
     "data": {
      "application/vnd.plotly.v1+json": {
       "data": [
        {
         "mode": "markers",
         "type": "scatter",
         "x": [
          1,
          2,
          3,
          4,
          5,
          6,
          7,
          8,
          9,
          10,
          11,
          12,
          13,
          14,
          15,
          16,
          17,
          18,
          19,
          20,
          21
         ],
         "y": [
          0.935672514619883,
          0.9298245614035088,
          0.9415204678362573,
          0.9473684210526315,
          0.9590643274853801,
          0.9590643274853801,
          0.9649122807017544,
          0.9649122807017544,
          0.9707602339181286,
          0.9824561403508771,
          0.9766081871345029,
          0.9766081871345029,
          0.9649122807017544,
          0.9649122807017544,
          0.9649122807017544,
          0.9649122807017544,
          0.9649122807017544,
          0.9649122807017544,
          0.9590643274853801,
          0.9649122807017544,
          0.9532163742690059
         ]
        }
       ],
       "layout": {}
      },
      "text/html": [
       "<div id=\"e5193317-99ac-456b-9663-35d2cf3a18b3\" style=\"height: 525px; width: 100%;\" class=\"plotly-graph-div\"></div><script type=\"text/javascript\">require([\"plotly\"], function(Plotly) { window.PLOTLYENV=window.PLOTLYENV || {};window.PLOTLYENV.BASE_URL=\"https://plot.ly\";Plotly.newPlot(\"e5193317-99ac-456b-9663-35d2cf3a18b3\", [{\"y\": [0.935672514619883, 0.9298245614035088, 0.9415204678362573, 0.9473684210526315, 0.9590643274853801, 0.9590643274853801, 0.9649122807017544, 0.9649122807017544, 0.9707602339181286, 0.9824561403508771, 0.9766081871345029, 0.9766081871345029, 0.9649122807017544, 0.9649122807017544, 0.9649122807017544, 0.9649122807017544, 0.9649122807017544, 0.9649122807017544, 0.9590643274853801, 0.9649122807017544, 0.9532163742690059], \"x\": [1, 2, 3, 4, 5, 6, 7, 8, 9, 10, 11, 12, 13, 14, 15, 16, 17, 18, 19, 20, 21], \"type\": \"scatter\", \"mode\": \"markers\"}], {}, {\"linkText\": \"Export to plot.ly\", \"showLink\": true})});</script>"
      ],
      "text/vnd.plotly.v1+html": [
       "<div id=\"e5193317-99ac-456b-9663-35d2cf3a18b3\" style=\"height: 525px; width: 100%;\" class=\"plotly-graph-div\"></div><script type=\"text/javascript\">require([\"plotly\"], function(Plotly) { window.PLOTLYENV=window.PLOTLYENV || {};window.PLOTLYENV.BASE_URL=\"https://plot.ly\";Plotly.newPlot(\"e5193317-99ac-456b-9663-35d2cf3a18b3\", [{\"y\": [0.935672514619883, 0.9298245614035088, 0.9415204678362573, 0.9473684210526315, 0.9590643274853801, 0.9590643274853801, 0.9649122807017544, 0.9649122807017544, 0.9707602339181286, 0.9824561403508771, 0.9766081871345029, 0.9766081871345029, 0.9649122807017544, 0.9649122807017544, 0.9649122807017544, 0.9649122807017544, 0.9649122807017544, 0.9649122807017544, 0.9590643274853801, 0.9649122807017544, 0.9532163742690059], \"x\": [1, 2, 3, 4, 5, 6, 7, 8, 9, 10, 11, 12, 13, 14, 15, 16, 17, 18, 19, 20, 21], \"type\": \"scatter\", \"mode\": \"markers\"}], {}, {\"linkText\": \"Export to plot.ly\", \"showLink\": true})});</script>"
      ]
     },
     "metadata": {},
     "output_type": "display_data"
    }
   ],
   "source": [
    "# your code for Task 2a.\n",
    "# Lets start again for practice\n",
    "scores = []\n",
    "for i in range(1,22):\n",
    "    model = KNeighborsClassifier(n_neighbors=i).fit(X_tr, y_tr)\n",
    "    scores.append(model.score(X_te, y_te))\n",
    "\n",
    "trace = go.Scatter(\n",
    "    x = range(1,22),\n",
    "    y = scores,\n",
    "    mode = 'markers'\n",
    ")\n",
    "data = [trace]\n",
    "iplot(data, filename='scatter')"
   ]
  },
  {
   "cell_type": "markdown",
   "metadata": {},
   "source": [
    "**Task 2b.** Using the best $k$, redo the classification experiment on the PCA-transformed data. To do this, you need to fit a PCA model with X_tr, use it to tranform *both* X_tr and X_te. Use the transformed training data to train your kNN, and test it on the transformed testing data. Generate a score curve for n_components values that go from 1 to 30. "
   ]
  },
  {
   "cell_type": "code",
   "execution_count": 26,
   "metadata": {},
   "outputs": [
    {
     "data": {
      "application/vnd.plotly.v1+json": {
       "data": [
        {
         "mode": "markers",
         "type": "scatter",
         "x": [
          1,
          2,
          3,
          4,
          5,
          6,
          7,
          8,
          9,
          10,
          11,
          12,
          13,
          14,
          15,
          16,
          17,
          18,
          19,
          20,
          21,
          22,
          23,
          24,
          25,
          26,
          27,
          28,
          29,
          30
         ],
         "y": [
          0.9239766081871345,
          0.9415204678362573,
          0.935672514619883,
          0.9415204678362573,
          0.9649122807017544,
          0.9649122807017544,
          0.9532163742690059,
          0.9532163742690059,
          0.9532163742690059,
          0.9649122807017544,
          0.9649122807017544,
          0.9649122807017544,
          0.9649122807017544,
          0.9649122807017544,
          0.9649122807017544,
          0.9649122807017544,
          0.9649122807017544,
          0.9649122807017544,
          0.9649122807017544,
          0.9649122807017544,
          0.9649122807017544,
          0.9649122807017544,
          0.9649122807017544,
          0.9649122807017544,
          0.9649122807017544,
          0.9649122807017544,
          0.9649122807017544,
          0.9649122807017544,
          0.9649122807017544,
          0.9649122807017544
         ]
        }
       ],
       "layout": {}
      },
      "text/html": [
       "<div id=\"fb00b2bb-7fdb-4a04-90ca-14354fab22f1\" style=\"height: 525px; width: 100%;\" class=\"plotly-graph-div\"></div><script type=\"text/javascript\">require([\"plotly\"], function(Plotly) { window.PLOTLYENV=window.PLOTLYENV || {};window.PLOTLYENV.BASE_URL=\"https://plot.ly\";Plotly.newPlot(\"fb00b2bb-7fdb-4a04-90ca-14354fab22f1\", [{\"y\": [0.9239766081871345, 0.9415204678362573, 0.935672514619883, 0.9415204678362573, 0.9649122807017544, 0.9649122807017544, 0.9532163742690059, 0.9532163742690059, 0.9532163742690059, 0.9649122807017544, 0.9649122807017544, 0.9649122807017544, 0.9649122807017544, 0.9649122807017544, 0.9649122807017544, 0.9649122807017544, 0.9649122807017544, 0.9649122807017544, 0.9649122807017544, 0.9649122807017544, 0.9649122807017544, 0.9649122807017544, 0.9649122807017544, 0.9649122807017544, 0.9649122807017544, 0.9649122807017544, 0.9649122807017544, 0.9649122807017544, 0.9649122807017544, 0.9649122807017544], \"x\": [1, 2, 3, 4, 5, 6, 7, 8, 9, 10, 11, 12, 13, 14, 15, 16, 17, 18, 19, 20, 21, 22, 23, 24, 25, 26, 27, 28, 29, 30], \"type\": \"scatter\", \"mode\": \"markers\"}], {}, {\"linkText\": \"Export to plot.ly\", \"showLink\": true})});</script>"
      ],
      "text/vnd.plotly.v1+html": [
       "<div id=\"fb00b2bb-7fdb-4a04-90ca-14354fab22f1\" style=\"height: 525px; width: 100%;\" class=\"plotly-graph-div\"></div><script type=\"text/javascript\">require([\"plotly\"], function(Plotly) { window.PLOTLYENV=window.PLOTLYENV || {};window.PLOTLYENV.BASE_URL=\"https://plot.ly\";Plotly.newPlot(\"fb00b2bb-7fdb-4a04-90ca-14354fab22f1\", [{\"y\": [0.9239766081871345, 0.9415204678362573, 0.935672514619883, 0.9415204678362573, 0.9649122807017544, 0.9649122807017544, 0.9532163742690059, 0.9532163742690059, 0.9532163742690059, 0.9649122807017544, 0.9649122807017544, 0.9649122807017544, 0.9649122807017544, 0.9649122807017544, 0.9649122807017544, 0.9649122807017544, 0.9649122807017544, 0.9649122807017544, 0.9649122807017544, 0.9649122807017544, 0.9649122807017544, 0.9649122807017544, 0.9649122807017544, 0.9649122807017544, 0.9649122807017544, 0.9649122807017544, 0.9649122807017544, 0.9649122807017544, 0.9649122807017544, 0.9649122807017544], \"x\": [1, 2, 3, 4, 5, 6, 7, 8, 9, 10, 11, 12, 13, 14, 15, 16, 17, 18, 19, 20, 21, 22, 23, 24, 25, 26, 27, 28, 29, 30], \"type\": \"scatter\", \"mode\": \"markers\"}], {}, {\"linkText\": \"Export to plot.ly\", \"showLink\": true})});</script>"
      ]
     },
     "metadata": {},
     "output_type": "display_data"
    }
   ],
   "source": [
    "#best result when k=10\n",
    "\n",
    "#standardise the full X data\n",
    "X_tr = StandardScaler().fit_transform(X_tr)\n",
    "X_te = StandardScaler().fit_transform(X_te)\n",
    "scores = []\n",
    "\n",
    "for i in range(1,31):\n",
    "    pca = PCA(n_components=i)\n",
    "    new_X_tr = pca.fit_transform(X_tr)\n",
    "    new_X_te = pca.fit_transform(X_te)\n",
    "    model = KNeighborsClassifier(n_neighbors=10).fit(new_X_tr, y_tr)\n",
    "    scores.append(model.score(new_X_te, y_te))\n",
    "    #print \"PC = {}\".format(i), new_X_tr\n",
    "\n",
    "    \n",
    "trace = go.Scatter(\n",
    "    x = range(1,31),\n",
    "    y = scores,\n",
    "    mode = 'markers'\n",
    ")\n",
    "data = [trace]\n",
    "iplot(data, filename='scatter')"
   ]
  },
  {
   "cell_type": "markdown",
   "metadata": {},
   "source": [
    "** Comment** on your observations: \n",
    ">- It seems from the first figure that k=10 heeds the highest accuracy model.\n",
    ">- Looking at the second figure, investigating how the number of PCs affect the accuracy of a model, it seems that more than 10 PCs doesn't improve the model accuracy.\n",
    ">- We might say in this case, it could mean that further PCs after 10 do not contribute much variance, and hence not much to the discrimination of classes - so it all goes flat. "
   ]
  },
  {
   "cell_type": "markdown",
   "metadata": {},
   "source": [
    "---\n",
    "---"
   ]
  },
  {
   "cell_type": "markdown",
   "metadata": {},
   "source": [
    "## Part 3. Feature importance ranking using decision trees\n",
    "For the last part of the lab, let's see if we can produce something similar to the feature importance graph introduced in Lecture 12. For this purpose we need to use the DecisionTreeClassifier. The following code does the job:"
   ]
  },
  {
   "cell_type": "code",
   "execution_count": 27,
   "metadata": {},
   "outputs": [
    {
     "data": {
      "image/png": "[encoded data removed]",
      "text/plain": [
       "<Figure size 432x288 with 1 Axes>"
      ]
     },
     "metadata": {},
     "output_type": "display_data"
    }
   ],
   "source": [
    "import numpy as np\n",
    "from sklearn.tree import DecisionTreeClassifier\n",
    "\n",
    "clf = DecisionTreeClassifier().fit(X_tr, y_tr)    # Train a DT and get the feature importance scores\n",
    "imp_scores = clf.feature_importances_\n",
    "ord = np.argsort(-imp_scores)     # sort the importance scores in descending order; take the order as indeces\n",
    "plt.bar(range(5), imp_scores[ord[0:5]]) # display the first five most important features and their scores\n",
    "plt.ylabel('Feature importances')  \n",
    "plt.xticks(range(5), dataset['feature_names'][ord[0:5]], rotation=45, ha='right');"
   ]
  },
  {
   "cell_type": "markdown",
   "metadata": {},
   "source": [
    "**Bonus Task. ** Conduct a 10-fold cross validation, each time train a DT and obtain the importance scores. Calculate the *average* importance score and display it. [0.5 marks]"
   ]
  },
  {
   "cell_type": "code",
   "execution_count": 28,
   "metadata": {},
   "outputs": [
    {
     "data": {
      "image/png": "[encoded data removed]",
      "text/plain": [
       "<Figure size 432x288 with 1 Axes>"
      ]
     },
     "metadata": {},
     "output_type": "display_data"
    }
   ],
   "source": [
    "#An array mapping to each feature in the data\n",
    "importance_array = np.zeros(shape=(30))\n",
    "\n",
    "#define a split generator\n",
    "ss = ShuffleSplit(n_splits=10, random_state=0, test_size=.3)\n",
    "\n",
    "for train_index, test_index in ss.split(X):\n",
    "    model = DecisionTreeClassifier().fit(X[train_index], y[train_index])\n",
    "    imp_feat = model.feature_importances_\n",
    "    #vector addition of this fold's discovered important features\n",
    "    #to the total important features in the importance array of features\n",
    "    importance_array += imp_feat\n",
    "\n",
    "#then divide by the 10 folds(not absolutely necessary)\n",
    "importance_array /= 10\n",
    "ord = np.argsort(-importance_array)     \n",
    "plt.bar(range(5), importance_array[ord[0:5]]) \n",
    "plt.ylabel('Feature importance')  \n",
    "plt.xticks(range(5), dataset['feature_names'][ord[0:5]], rotation=45, ha='right');"
   ]
  },
  {
   "cell_type": "markdown",
   "metadata": {},
   "source": [
    ">- ### Interestingly, after more trials, it seems the worst area feature is the most important - not the mean concave points."
   ]
  },
  {
   "cell_type": "markdown",
   "metadata": {},
   "source": [
    "#### END OF LAB 5."
   ]
  }
 ],
 "metadata": {
  "kernelspec": {
   "display_name": "Python 2",
   "language": "python",
   "name": "python2"
  },
  "language_info": {
   "codemirror_mode": {
    "name": "ipython",
    "version": 2
   },
   "file_extension": ".py",
   "mimetype": "text/x-python",
   "name": "python",
   "nbconvert_exporter": "python",
   "pygments_lexer": "ipython2",
   "version": "2.7.15"
  }
 },
 "nbformat": 4,
 "nbformat_minor": 2
}
