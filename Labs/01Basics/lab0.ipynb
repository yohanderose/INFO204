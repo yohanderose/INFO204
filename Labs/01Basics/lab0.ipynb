{
 "cells": [
  {
   "cell_type": "markdown",
   "metadata": {},
   "source": [
    "# INFO411 Lab 0 - Getting Started with IPython"
   ]
  },
  {
   "cell_type": "code",
   "execution_count": null,
   "metadata": {},
   "outputs": [],
   "source": []
  },
  {
   "cell_type": "markdown",
   "metadata": {},
   "source": [
    "## Part A. Review"
   ]
  },
  {
   "cell_type": "markdown",
   "metadata": {},
   "source": [
    "This lab is for us to get familiar with our lab environment and revise some Python skills. \n",
    "\n",
    "We are using Jupyter Notebook, an interactive environment based on IPython - a high-performance command shell for Python. If you want to install Jupyter on your own computer, please choose the **Python 2.7** version from Anaconda: https://www.continuum.io/downloads. \n",
    "\n",
    "To proceed, read along and run the code cells along the way. If you want to add comments, use the plus sign button above and change the cell format to \"Raw NBConvert\", or \"Markdown\" if you want more fun :). \n",
    "\n",
    "Complete the scripts (for \"tasks\") and verify their outcome. This lab is not assessed, but you can still submit the completed notebook by 10pm TUE 18/7. "
   ]
  },
  {
   "cell_type": "markdown",
   "metadata": {},
   "source": [
    "### Basics"
   ]
  },
  {
   "cell_type": "code",
   "execution_count": 1,
   "metadata": {},
   "outputs": [
    {
     "name": "stdout",
     "output_type": "stream",
     "text": [
      "Hello World!\n"
     ]
    }
   ],
   "source": [
    "print \"Hello World!\""
   ]
  },
  {
   "cell_type": "code",
   "execution_count": null,
   "metadata": {},
   "outputs": [],
   "source": []
  },
  {
   "cell_type": "markdown",
   "metadata": {},
   "source": [
    "Beware Python is a \"dynamic type\" language, and its arithmetic operators are quite permissive (but outcome can be surprising). Run the following cells and compare the outcome:"
   ]
  },
  {
   "cell_type": "code",
   "execution_count": 2,
   "metadata": {},
   "outputs": [
    {
     "data": {
      "text/plain": [
       "0"
      ]
     },
     "execution_count": 2,
     "metadata": {},
     "output_type": "execute_result"
    }
   ],
   "source": [
    "1/89"
   ]
  },
  {
   "cell_type": "code",
   "execution_count": 3,
   "metadata": {},
   "outputs": [
    {
     "data": {
      "text/plain": [
       "0.011235955056179775"
      ]
     },
     "execution_count": 3,
     "metadata": {},
     "output_type": "execute_result"
    }
   ],
   "source": [
    "1.0/89"
   ]
  },
  {
   "cell_type": "markdown",
   "metadata": {},
   "source": [
    "In data mining we often deal with floating number calculations (but work sometimes with integer data), so take heed of these subtleties."
   ]
  },
  {
   "cell_type": "markdown",
   "metadata": {},
   "source": [
    "\"a**2\" gives the power of 2 on $a$: $a^2$."
   ]
  },
  {
   "cell_type": "code",
   "execution_count": 5,
   "metadata": {},
   "outputs": [
    {
     "name": "stdout",
     "output_type": "stream",
     "text": [
      "a= 11 a^2= 121\n"
     ]
    }
   ],
   "source": [
    "# Change a to 11, 111, 1111, ... each time click back to this cell, make change, and run; repeat\n",
    "a=11\n",
    "print 'a=',a,'a^2=',a**2"
   ]
  },
  {
   "cell_type": "markdown",
   "metadata": {},
   "source": [
    "This is tedious. We can use a \"for\" loop to save some time. Run the following code and see how the variable 'a' is updated:"
   ]
  },
  {
   "cell_type": "code",
   "execution_count": 6,
   "metadata": {},
   "outputs": [
    {
     "name": "stdout",
     "output_type": "stream",
     "text": [
      "1\n",
      "11\n",
      "111\n",
      "1111\n",
      "11111\n",
      "111111\n",
      "1111111\n",
      "11111111\n",
      "111111111\n"
     ]
    }
   ],
   "source": [
    "a=1\n",
    "for i in range(9):\n",
    "    print a\n",
    "    a=a*10+1"
   ]
  },
  {
   "cell_type": "markdown",
   "metadata": {},
   "source": [
    "In fact, the function range(.) returns a list: "
   ]
  },
  {
   "cell_type": "code",
   "execution_count": 7,
   "metadata": {},
   "outputs": [
    {
     "data": {
      "text/plain": [
       "[0, 1, 2, 3, 4, 5, 6, 7, 8]"
      ]
     },
     "execution_count": 7,
     "metadata": {},
     "output_type": "execute_result"
    }
   ],
   "source": [
    "range(9)"
   ]
  },
  {
   "cell_type": "markdown",
   "metadata": {},
   "source": [
    "**<font color=\"red\">TO-DO</font>**: complete the code below to get all $a^2$ printed for a=1,11,111,...."
   ]
  },
  {
   "cell_type": "code",
   "execution_count": 9,
   "metadata": {},
   "outputs": [
    {
     "name": "stdout",
     "output_type": "stream",
     "text": [
      "1\n",
      "121\n",
      "12321\n",
      "1234321\n",
      "123454321\n",
      "12345654321\n",
      "1234567654321\n",
      "123456787654321\n",
      "12345678987654321\n"
     ]
    }
   ],
   "source": [
    "a=1\n",
    "for i in range(9):\n",
    "    print a**2\n",
    "    a=a*10+1"
   ]
  },
  {
   "cell_type": "markdown",
   "metadata": {},
   "source": [
    "To automate things, it is often a good idea to wrap some code into a function for reuse. \n",
    "\n",
    "Here's an example - a function that calculates the hypotenuse (side opposite the right angle) of a rectangular triangle, given the lengths of its two sides. We import the \"math\" package for the purpose, and then define a function according to the Pythagoras theorem $c^2=a^2+b^2$:"
   ]
  },
  {
   "cell_type": "code",
   "execution_count": 10,
   "metadata": {},
   "outputs": [
    {
     "data": {
      "text/plain": [
       "5.0"
      ]
     },
     "execution_count": 10,
     "metadata": {},
     "output_type": "execute_result"
    }
   ],
   "source": [
    "import math\n",
    "def pythagoras(a, b):\n",
    "    return math.sqrt(a**2 + b**2)\n",
    "\n",
    "pythagoras(3,4)"
   ]
  },
  {
   "cell_type": "code",
   "execution_count": 11,
   "metadata": {},
   "outputs": [
    {
     "name": "stdout",
     "output_type": "stream",
     "text": [
      "Wrong parameters: negative side length. \n"
     ]
    },
    {
     "data": {
      "text/plain": [
       "-1"
      ]
     },
     "execution_count": 11,
     "metadata": {},
     "output_type": "execute_result"
    }
   ],
   "source": [
    "# Another version - with a careful check on parameter values\n",
    "def pythagoras(a, b):\n",
    "    if (a<0 or b<0):\n",
    "        print('Wrong parameters: negative side length. ')\n",
    "        return -1\n",
    "    return math.sqrt(a**2 + b**2)\n",
    "\n",
    "pythagoras(-3,4)"
   ]
  },
  {
   "cell_type": "markdown",
   "metadata": {},
   "source": [
    "### List"
   ]
  },
  {
   "cell_type": "markdown",
   "metadata": {},
   "source": [
    "Or, we can use a \"for ... in ...\" loop to iterate through a list and generate the outcome:"
   ]
  },
  {
   "cell_type": "code",
   "execution_count": 12,
   "metadata": {},
   "outputs": [
    {
     "name": "stdout",
     "output_type": "stream",
     "text": [
      "1\n",
      "121\n",
      "12321\n",
      "1234321\n",
      "123454321\n"
     ]
    }
   ],
   "source": [
    "# iterate through a list\n",
    "alist=[1,11,111,1111,11111]\n",
    "for a in alist:\n",
    "    print a**2"
   ]
  },
  {
   "cell_type": "markdown",
   "metadata": {},
   "source": [
    "Interesting, isn't it? "
   ]
  },
  {
   "cell_type": "markdown",
   "metadata": {},
   "source": [
    "List is a very useful data structure in Python. Like in C/Java, the index of an N-element list starts from 0, ends with $N-1$. The $N-1$ index has a handy shorthand: -1. "
   ]
  },
  {
   "cell_type": "code",
   "execution_count": 13,
   "metadata": {},
   "outputs": [
    {
     "name": "stdout",
     "output_type": "stream",
     "text": [
      "Length of the list: 5\n",
      "First entry: 1\n",
      "Third entry: 111\n",
      "Last entry: 11111\n"
     ]
    }
   ],
   "source": [
    "print 'Length of the list:', len(alist)\n",
    "print 'First entry:', alist[0]\n",
    "print 'Third entry:', alist[2]\n",
    "print 'Last entry:', alist[-1]"
   ]
  },
  {
   "cell_type": "markdown",
   "metadata": {},
   "source": [
    "An *often-used* trick is to use an empty list to collect data progressively. The following blurb imports the 'random' package and generate 100 floating random number between 0 and 1.0:"
   ]
  },
  {
   "cell_type": "code",
   "execution_count": 14,
   "metadata": {},
   "outputs": [
    {
     "data": {
      "text/plain": [
       "100"
      ]
     },
     "execution_count": 14,
     "metadata": {},
     "output_type": "execute_result"
    }
   ],
   "source": [
    "# import the 'random' package \n",
    "import random\n",
    "rlst=[]\n",
    "for i in range(100):\n",
    "    rlst.append(random.random())\n",
    "len(rlst)"
   ]
  },
  {
   "cell_type": "markdown",
   "metadata": {},
   "source": [
    "### String"
   ]
  },
  {
   "cell_type": "markdown",
   "metadata": {},
   "source": [
    "String manipulation in Python is flexible and easy. "
   ]
  },
  {
   "cell_type": "code",
   "execution_count": 15,
   "metadata": {},
   "outputs": [
    {
     "data": {
      "text/plain": [
       "'e'"
      ]
     },
     "execution_count": 15,
     "metadata": {},
     "output_type": "execute_result"
    }
   ],
   "source": [
    "# treated as a list\n",
    "hello='hello world'\n",
    "hello[1]"
   ]
  },
  {
   "cell_type": "code",
   "execution_count": 16,
   "metadata": {},
   "outputs": [
    {
     "data": {
      "text/plain": [
       "['hello', 'world']"
      ]
     },
     "execution_count": 16,
     "metadata": {},
     "output_type": "execute_result"
    }
   ],
   "source": [
    "# split by a specified separator\n",
    "hello.split(' ')"
   ]
  },
  {
   "cell_type": "code",
   "execution_count": 18,
   "metadata": {},
   "outputs": [
    {
     "name": "stdout",
     "output_type": "stream",
     "text": [
      "True\n",
      "6\n"
     ]
    }
   ],
   "source": [
    "# query / search etc.\n",
    "print hello.startswith('he')\n",
    "print hello.find('world')"
   ]
  },
  {
   "cell_type": "markdown",
   "metadata": {},
   "source": [
    "### Dictionary"
   ]
  },
  {
   "cell_type": "markdown",
   "metadata": {},
   "source": [
    "Another useful, generic data structure in Python is the dictionary, \"dict\". It is used to connect keys and values into pairs. "
   ]
  },
  {
   "cell_type": "code",
   "execution_count": 20,
   "metadata": {},
   "outputs": [
    {
     "data": {
      "text/plain": [
       "2"
      ]
     },
     "execution_count": 20,
     "metadata": {},
     "output_type": "execute_result"
    }
   ],
   "source": [
    "week=dict([('Monday', 1), ('Tuesday', 2)])\n",
    "week['Tuesday']     # Use key to query value, e.g. check out which day is Tuesday"
   ]
  },
  {
   "cell_type": "code",
   "execution_count": 21,
   "metadata": {},
   "outputs": [
    {
     "data": {
      "text/plain": [
       "{'Monday': 1, 'Tuesday': 2, 'Wednesday': 3}"
      ]
     },
     "execution_count": 21,
     "metadata": {},
     "output_type": "execute_result"
    }
   ],
   "source": [
    "# insert a new pair\n",
    "week['Wednesday']=3\n",
    "week"
   ]
  },
  {
   "cell_type": "code",
   "execution_count": 22,
   "metadata": {},
   "outputs": [
    {
     "data": {
      "text/plain": [
       "{'Monday': 1, 'Wednesday': 3}"
      ]
     },
     "execution_count": 22,
     "metadata": {},
     "output_type": "execute_result"
    }
   ],
   "source": [
    "# remove a pair\n",
    "del week['Tuesday']\n",
    "week"
   ]
  },
  {
   "cell_type": "markdown",
   "metadata": {},
   "source": [
    "**<font color=\"red\">TO-DO</font>**: insert all weekday-number pairs into 'week' and verify:"
   ]
  },
  {
   "cell_type": "code",
   "execution_count": 25,
   "metadata": {},
   "outputs": [
    {
     "data": {
      "text/plain": [
       "{'Friday': 5,\n",
       " 'Monday': 1,\n",
       " 'Saturday': 6,\n",
       " 'Sunday': 7,\n",
       " 'Thursday': 4,\n",
       " 'Tuesday': 2,\n",
       " 'Wednesday': 3}"
      ]
     },
     "execution_count": 25,
     "metadata": {},
     "output_type": "execute_result"
    }
   ],
   "source": [
    "week=dict([('Monday', 1), ('Tuesday', 2)])\n",
    "week['Wednesday']=3\n",
    "week['Thursday']=4\n",
    "week['Friday']=5\n",
    "week['Saturday']=6\n",
    "week['Sunday']=7\n",
    "week"
   ]
  },
  {
   "cell_type": "markdown",
   "metadata": {},
   "source": [
    "## Exercise"
   ]
  },
  {
   "cell_type": "markdown",
   "metadata": {},
   "source": [
    "### Birthday problem\n",
    "Have you ever been to a party and met a person with exactly the same birthday as yours? How likely this would happen, we wonder. Let's find it out using a bit of Python...\n",
    "\n",
    "We consider the opposite situation, i.e, every one in the party has a unique birthday. For simplicity we assume that every day in the year can equally be a birthday, i.e., the distribution of birthdays is uniform throughout the year. \n",
    "\n",
    "Suppose we have four people in the room. For the person 1, out of 365 days (for sake of simplicity, let's ignore leap years), she can have any one day as her birthday. Note her chance as $p_1=\\frac{365}{365}$. For the 2nd person, out of 365 days, she can now only choose one from 364 days (to avoid choosing the day chosen by person 1). Note her chance as $p_2=\\frac{364}{365}$. So on and so forth. \n",
    "\n",
    "So the chance of everybody having a unique birthday is \n",
    "$$P=\\frac{365}{365}\\times \\frac{364}{365}\\times \\frac{363}{365}\\times \\frac{362}{365}=0.98.$$\n",
    "This means that in the 4-people party, the chance of having at least one birthday clash, is 1-0.98=0.02, i.e., only 2 percent. \n",
    "\n",
    "<font color=\"red\">**TO-DO**:</font> Write a snippet of Python code to calculate the probability of at least two sharing the same birthday in a 23-people party. (Tips: use a \"for\" loop. The answer is about 0.5.)"
   ]
  },
  {
   "cell_type": "code",
   "execution_count": 34,
   "metadata": {},
   "outputs": [],
   "source": [
    "def p(n):\n",
    "    pool = []\n",
    "    for i in range(n):\n",
    "        pool.append(365-i)\n",
    "    \n",
    "    p = 1\n",
    "    for i in range(n):\n",
    "        p *= pool[i]/365.0    \n",
    "    \n",
    "    return 1-p"
   ]
  },
  {
   "cell_type": "code",
   "execution_count": 35,
   "metadata": {},
   "outputs": [
    {
     "data": {
      "text/plain": [
       "0.4927027656760144"
      ]
     },
     "execution_count": 35,
     "metadata": {},
     "output_type": "execute_result"
    }
   ],
   "source": [
    "p(23)"
   ]
  },
  {
   "cell_type": "markdown",
   "metadata": {},
   "source": [
    "**Task B**: Define a function bithday_clash_prob(num_ppl) that works out the probability given the number of people. Test with 4 and 23. "
   ]
  },
  {
   "cell_type": "code",
   "execution_count": 38,
   "metadata": {},
   "outputs": [],
   "source": [
    "# your code here\n",
    "def birthday_clash_prob():\n",
    "    pool = []\n",
    "    for i in range(n):\n",
    "        pool.append(365-i)\n",
    "    \n",
    "    p = 1\n",
    "    for i in range(n):\n",
    "        p *= pool[i]/365.0    \n",
    "    \n",
    "    return (1-p)"
   ]
  },
  {
   "cell_type": "markdown",
   "metadata": {},
   "source": [
    "######  End of Lab 0."
   ]
  },
  {
   "cell_type": "markdown",
   "metadata": {
    "collapsed": true
   },
   "source": [
    "*Congratulations!* This lab is not assessed, but you're welcome to submit the completed notebook through Blackboard. "
   ]
  },
  {
   "cell_type": "code",
   "execution_count": null,
   "metadata": {},
   "outputs": [],
   "source": []
  }
 ],
 "metadata": {
  "kernelspec": {
   "display_name": "Python 2",
   "language": "python",
   "name": "python2"
  },
  "language_info": {
   "codemirror_mode": {
    "name": "ipython",
    "version": 2
   },
   "file_extension": ".py",
   "mimetype": "text/x-python",
   "name": "python",
   "nbconvert_exporter": "python",
   "pygments_lexer": "ipython2",
   "version": "2.7.15"
  }
 },
 "nbformat": 4,
 "nbformat_minor": 1
}
