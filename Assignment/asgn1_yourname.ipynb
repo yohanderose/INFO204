{
 "cells": [
  {
   "cell_type": "markdown",
   "metadata": {},
   "source": [
    "# <center>INFO204 Assignment 1 - Handwritten Digits Classification</center>\n",
    "### <center>10 Marks</center>"
   ]
  },
  {
   "cell_type": "markdown",
   "metadata": {},
   "source": [
    "Group Members (Fill in details)\n",
    "\n",
    "|Name |StudentID |\n",
    "|---|---|\n",
    "|Name1 | ID1|\n",
    "|Name2 | ID2|"
   ]
  },
  {
   "cell_type": "markdown",
   "metadata": {},
   "source": [
    "In this assignment, we use Scikit Learn's handwritten \"digits\" dataset to practise a number of skills, including data manipulation, visualization using PCA, classification, and performance evaluation using ROC and cross validation. \n",
    "\n",
    "You can form a group with a fellow student to do this assignment together. Submit your completed notebook through Blackboard by **<font color=\"red\">11:59pm Monday 27 August.</font> ** Submit one notebook only per group. \n",
    "\n",
    "Here are some useful scikit.learn resources for your reference:\n",
    "- <a href=\"http://scikit-learn.org/stable/datasets/index.html\" target=\"_new\">Sklearn dataset utilities</a>\n",
    "- <a href=\"http://scikit-learn.org/stable/modules/generated/sklearn.model_selection.train_test_split.html\" target=\"_new\">train_test_split</a>\n",
    "- <a href=\"http://scikit-learn.org/stable/auto_examples/model_selection/plot_roc_crossval.html\" target=\"_new\">ROC with cross validation</a>"
   ]
  },
  {
   "cell_type": "markdown",
   "metadata": {},
   "source": [
    "## Part 1. Data Manipulation and Visualization\n",
    "For the first part of the assignment, complete the following tasks [3 marks]:\n",
    "1. Import Sklearn's datasets utilities to load in the \"digits\" dataset. Use \"X\" to store digit arrays, \"y\" class labels. \n",
    "2. Report the dataset's information: \n",
    "    - names: attribute names, class names;\n",
    "    - number of instances: total, per class;\n",
    "    - images: display an instance for each digit class as an image \n",
    "\n",
    "As an example, to display X[0] as a digit image, try \n",
    "<pre>plt.imshow(X[0].reshape(8,8).astype('uint8'), cmap=plt.cm.gray)</pre>\n",
    "\n",
    "3. Use PCA to extract the first two principal components and visualize the transformed dataset using class labels. Comment on the seperability of the classes. \n"
   ]
  },
  {
   "cell_type": "code",
   "execution_count": null,
   "metadata": {},
   "outputs": [],
   "source": [
    "# import all necessary packages\n",
    "# ....\n",
    "\n",
    "# load in the digits dataset\n",
    "# .... \n",
    "\n",
    "# other tasks...\n"
   ]
  },
  {
   "cell_type": "markdown",
   "metadata": {},
   "source": [
    "## Part 2. Confusion matrix\n",
    "Now, randomly split the \"digits\" dataset into a training set (70%) and testing set (30%), and employ the $k$-nearest neighbour classifier and the support vector classifier (SVC) to classify the dataset. For each classifier, report the corresponding confusion matrix and comment on the result. [2 marks]"
   ]
  },
  {
   "cell_type": "code",
   "execution_count": null,
   "metadata": {},
   "outputs": [],
   "source": [
    "# code for Part 2"
   ]
  },
  {
   "cell_type": "markdown",
   "metadata": {},
   "source": [
    "## Part 3. ROC and AUC\n",
    "Let us now focus on Class \"8\" for an obvious reason. Change the multi-class classification problem into a binary, 8 vs non-8, classification problem. Use a 10-fold cross validation process, calculate the average ROC and AUC values for the kNN and SVC classifiers. Tune the classifier parameters and report the best outcome. \n",
    "\n",
    "To be exact, follow these steps:\n",
    "- If necessary, convert our data arrays X,y for the new problem. [1 mark]\n",
    "- Calculate ROC and AUC for the binary 8 vs non-8 classification using a random split.  [2 marks]\n",
    "- Employ 10-fold CV to tune the classifiers and generate the best average ROC and AUC results. [2 marks]"
   ]
  },
  {
   "cell_type": "code",
   "execution_count": null,
   "metadata": {},
   "outputs": [],
   "source": [
    "# code for Part 3a - binary classification conversion"
   ]
  },
  {
   "cell_type": "code",
   "execution_count": null,
   "metadata": {},
   "outputs": [],
   "source": [
    "# code for Part 3b - ROC and AUC "
   ]
  },
  {
   "cell_type": "code",
   "execution_count": null,
   "metadata": {},
   "outputs": [],
   "source": [
    "# code for Part 3c - with cross validation"
   ]
  }
 ],
 "metadata": {
  "kernelspec": {
   "display_name": "Python 2",
   "language": "python",
   "name": "python2"
  },
  "language_info": {
   "codemirror_mode": {
    "name": "ipython",
    "version": 2
   },
   "file_extension": ".py",
   "mimetype": "text/x-python",
   "name": "python",
   "nbconvert_exporter": "python",
   "pygments_lexer": "ipython2",
   "version": "2.7.15"
  }
 },
 "nbformat": 4,
 "nbformat_minor": 2
}
